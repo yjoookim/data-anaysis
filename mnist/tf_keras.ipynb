{
 "cells": [
  {
   "cell_type": "markdown",
   "metadata": {},
   "source": [
    "**Tensorflow Keras를 이용한 MNIST 학습** \n",
    "\n",
    "https://softtone-someday.tistory.com/11"
   ]
  },
  {
   "cell_type": "markdown",
   "metadata": {},
   "source": [
    "**Training Data 로드**"
   ]
  },
  {
   "cell_type": "code",
   "execution_count": 32,
   "metadata": {},
   "outputs": [
    {
     "data": {
      "text/plain": [
       "[(60000, 28, 28), (60000,), (10000, 28, 28), (10000,)]"
      ]
     },
     "execution_count": 32,
     "metadata": {},
     "output_type": "execute_result"
    }
   ],
   "source": [
    "# import tensorflow as tf\n",
    "from tensorflow.keras import datasets\n",
    "from tensorflow.keras import models\n",
    "from tensorflow.keras import layers\n",
    "from tensorflow.keras import utils\n",
    "\n",
    "# MNIST 데이터셋 로드\n",
    "(trn_img,trn_lbl),(tst_img,tst_lbl) = datasets.mnist.load_data()\n",
    "[trn_img.shape,trn_lbl.shape,tst_img.shape,tst_lbl.shape]"
   ]
  },
  {
   "cell_type": "markdown",
   "metadata": {},
   "source": [
    "**DNN 모델 구성**"
   ]
  },
  {
   "cell_type": "code",
   "execution_count": 33,
   "metadata": {},
   "outputs": [
    {
     "name": "stdout",
     "output_type": "stream",
     "text": [
      "Model: \"sequential_7\"\n",
      "_________________________________________________________________\n",
      " Layer (type)                Output Shape              Param #   \n",
      "=================================================================\n",
      " flatten_8 (Flatten)         (None, 784)               0         \n",
      "                                                                 \n",
      " dense_14 (Dense)            (None, 128)               100480    \n",
      "                                                                 \n",
      " dropout_7 (Dropout)         (None, 128)               0         \n",
      "                                                                 \n",
      " dense_15 (Dense)            (None, 10)                1290      \n",
      "                                                                 \n",
      "=================================================================\n",
      "Total params: 101770 (397.54 KB)\n",
      "Trainable params: 101770 (397.54 KB)\n",
      "Non-trainable params: 0 (0.00 Byte)\n",
      "_________________________________________________________________\n"
     ]
    }
   ],
   "source": [
    "trn_img, tst_img = trn_img / 255.0, tst_img / 255.0 # 데이터 정규화 (0 또는 1로만 분류함)\n",
    "\n",
    "model = models.Sequential()\n",
    "model.add(layers.Flatten(input_shape=(28, 28)))     # 28x28 이미지를 1차원으로 펼침\n",
    "model.add(layers.Dense(128, activation='relu'))     # 128개의 유닛과 ReLU 활성화 함수를 가진 은닉층\n",
    "model.add(layers.Dropout(0.2))                      # 드롭아웃 층 (과적합 방지)\n",
    "model.add(layers.Dense(10, activation='softmax'))   # 10개의 클래스와 소프트맥스 활성화 함수를 가진 출력층\n",
    "\n",
    "model.summary()"
   ]
  },
  {
   "cell_type": "markdown",
   "metadata": {},
   "source": [
    "![Alt text](image.png)"
   ]
  },
  {
   "cell_type": "markdown",
   "metadata": {},
   "source": [
    "**Training** "
   ]
  },
  {
   "cell_type": "code",
   "execution_count": 34,
   "metadata": {},
   "outputs": [
    {
     "name": "stdout",
     "output_type": "stream",
     "text": [
      "Epoch 1/10\n",
      "1500/1500 [==============================] - 12s 6ms/step - loss: 0.3283 - accuracy: 0.9050 - val_loss: 0.1674 - val_accuracy: 0.9521\n",
      "Epoch 2/10\n",
      "1500/1500 [==============================] - 9s 6ms/step - loss: 0.1586 - accuracy: 0.9540 - val_loss: 0.1175 - val_accuracy: 0.9655\n",
      "Epoch 3/10\n",
      "1500/1500 [==============================] - 10s 7ms/step - loss: 0.1186 - accuracy: 0.9650 - val_loss: 0.1044 - val_accuracy: 0.9698\n",
      "Epoch 4/10\n",
      "1500/1500 [==============================] - 10s 7ms/step - loss: 0.0955 - accuracy: 0.9704 - val_loss: 0.0940 - val_accuracy: 0.9720\n",
      "Epoch 5/10\n",
      "1500/1500 [==============================] - 11s 7ms/step - loss: 0.0807 - accuracy: 0.9749 - val_loss: 0.0882 - val_accuracy: 0.9743\n",
      "Epoch 6/10\n",
      "1500/1500 [==============================] - 10s 7ms/step - loss: 0.0683 - accuracy: 0.9791 - val_loss: 0.0828 - val_accuracy: 0.9749\n",
      "Epoch 7/10\n",
      "1500/1500 [==============================] - 9s 6ms/step - loss: 0.0623 - accuracy: 0.9799 - val_loss: 0.0823 - val_accuracy: 0.9770\n",
      "Epoch 8/10\n",
      "1500/1500 [==============================] - 10s 7ms/step - loss: 0.0562 - accuracy: 0.9819 - val_loss: 0.0812 - val_accuracy: 0.9763\n",
      "Epoch 9/10\n",
      "1500/1500 [==============================] - 10s 6ms/step - loss: 0.0507 - accuracy: 0.9832 - val_loss: 0.0828 - val_accuracy: 0.9770\n",
      "Epoch 10/10\n",
      "1500/1500 [==============================] - 10s 7ms/step - loss: 0.0443 - accuracy: 0.9855 - val_loss: 0.0809 - val_accuracy: 0.9781\n"
     ]
    },
    {
     "data": {
      "image/png": "[encoded data removed]",
      "text/plain": [
       "<Figure size 640x480 with 1 Axes>"
      ]
     },
     "metadata": {},
     "output_type": "display_data"
    }
   ],
   "source": [
    "# 레이블 원-핫 인코딩 (num_classes를 지정하지 않으면 모델의 클래스 개수로 판단함)\n",
    "trn_lbl = utils.to_categorical(trn_lbl) \n",
    "tst_lbl = utils.to_categorical(tst_lbl)\n",
    "\n",
    "model.compile(optimizer='adam',\n",
    "              loss='categorical_crossentropy',\n",
    "              metrics=['accuracy'])\n",
    "\n",
    "history = model.fit (trn_img, trn_lbl, epochs=10, validation_split=0.2)\n",
    "\n",
    "# 학습 과정 그래프\n",
    "import matplotlib.pyplot as plt\n",
    "\n",
    "plt.plot(history.history['accuracy'], label='accuracy')\n",
    "plt.plot(history.history['val_accuracy'], label = 'val_accuracy')\n",
    "plt.xlabel('Epoch')\n",
    "plt.ylabel('Accuracy')\n",
    "plt.ylim([0, 1])\n",
    "plt.legend(loc='lower right')\n",
    "plt.show()"
   ]
  },
  {
   "cell_type": "markdown",
   "metadata": {},
   "source": [
    "**Evaluation**"
   ]
  },
  {
   "cell_type": "code",
   "execution_count": null,
   "metadata": {},
   "outputs": [
    {
     "name": "stdout",
     "output_type": "stream",
     "text": [
      "313/313 - 1s - loss: 0.0728 - accuracy: 0.9799 - 1s/epoch - 5ms/step\n",
      "테스트 정확도: 0.9799000024795532\n"
     ]
    }
   ],
   "source": [
    "test_loss, test_acc = model.evaluate(tst_img, tst_lbl, verbose=2)\n",
    "print(f\"테스트 정확도: {test_acc}\")"
   ]
  }
 ],
 "metadata": {
  "kernelspec": {
   "display_name": "mylab",
   "language": "python",
   "name": "python3"
  },
  "language_info": {
   "codemirror_mode": {
    "name": "ipython",
    "version": 3
   },
   "file_extension": ".py",
   "mimetype": "text/x-python",
   "name": "python",
   "nbconvert_exporter": "python",
   "pygments_lexer": "ipython3",
   "version": "3.11.4"
  },
  "orig_nbformat": 4
 },
 "nbformat": 4,
 "nbformat_minor": 2
}
