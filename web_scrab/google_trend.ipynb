{
 "cells": [
  {
   "cell_type": "markdown",
   "id": "6fbcd91e",
   "metadata": {},
   "source": [
    "# Google Trends\n",
    "\n",
    "https://trends.google.com/trends/trendingsearches/daily/rss?geo=KR"
   ]
  },
  {
   "cell_type": "code",
   "execution_count": 1,
   "id": "28ff3dd0",
   "metadata": {},
   "outputs": [
    {
     "name": "stdout",
     "output_type": "stream",
     "text": [
      "\u001b[1m 모로코 \u001b[0m : 모로코서 규모 6.8 지진 발생…“최소 269명 사망, 153명 부상”\n",
      "\u001b[1m 대전 초등학교 교사 \u001b[0m : 숨진 대전 초등학교 교사...민원 학부모 피해 마트도 먼 곳 다녔다\n",
      "\u001b[1m NFL \u001b[0m : NFL 댈러스, 전 세계 스포츠팀 가치 8년 연속 1위\n",
      "\u001b[1m 한성주 \u001b[0m : 불법 촬영 피해 한성주, 12년 만에 공개석상…고려대 응원단 자격\n",
      "\u001b[1m 에코프로 \u001b[0m : 힘겹게 지켜낸 황제주…개인 팔자에 주춤하는 에코프로\n",
      "\u001b[1m 안민석 \u001b[0m : 안민석 “무례한 발언 사과하라”...한동훈 “욕설 의원이 누굴 가르치나”\n",
      "\u001b[1m 김건희 \u001b[0m : [포토] 김건희 여사, 인니 영부인과 친교 차담\n",
      "\u001b[1m 북한 \u001b[0m : 전문가들 “북한 새 핵잠수함 기괴…정상운용 어렵고 위협 안 돼”\n",
      "\u001b[1m 밀리의서재 \u001b[0m : 상장 재수생 밀리의서재, 이번엔 완주·흥행 이룰까\n",
      "\u001b[1m 태영호 \u001b[0m : 태영호 “쓰레기 막말 박영순 의원직 박탈하라”…민주 “단식장서 행패 ...\n",
      "\u001b[1m 축구 \u001b[0m : 신평고, 또 하나의 메달 추가..2023 전국고등축구리그 왕중왕전 준우승\n",
      "\u001b[1m 러시아 \u001b[0m : 북한: 밀착하는 북한과 러시아, 어떤 의미 있나? - BBC News 코리아\n",
      "\u001b[1m 폴스타 \u001b[0m : 폴스타, 중국 시장에 전용 스마트폰 출시..차량 연동성 강화\n",
      "\u001b[1m 9월 모의고사 \u001b[0m : 2024 수능 9월 모의고사, EBS 연계율 50% EBS 연계교재에 포함된 ...\n",
      "\u001b[1m 윤석열 녹취록 \u001b[0m : 윤석열 민주당보다 국힘 더 싫어 녹취록에 국민의힘 반응은?\n",
      "\u001b[1m 세븐나이츠 키우기 \u001b[0m : 넷마블, 신작 세븐나이츠 키우기 글로벌 출시\n",
      "\u001b[1m 샌프란시스코 \u001b[0m : 샌프란시스코의 혼란, 파리의 결단 [광화문]\n",
      "\u001b[1m 한덕수 \u001b[0m : 한덕수 우린 기축통화 반열 못 올라 부채 마음대로 못 늘려\n",
      "\u001b[1m 낸시랭 \u001b[0m : 10억 빚 사기 결혼 낸시랭, 프로필 재조명\n",
      "\u001b[1m SRT \u001b[0m : SRT 열차 고장으로 승객 다쳐…안전점검 미흡했나\n"
     ]
    },
    {
     "name": "stderr",
     "output_type": "stream",
     "text": [
      "c:\\Users\\witty\\anaconda3\\envs\\mylab\\Lib\\site-packages\\bs4\\builder\\__init__.py:545: XMLParsedAsHTMLWarning: It looks like you're parsing an XML document using an HTML parser. If this really is an HTML document (maybe it's XHTML?), you can ignore or filter this warning. If it's XML, you should know that using an XML parser will be more reliable. To parse this document as XML, make sure you have the lxml package installed, and pass the keyword argument `features=\"xml\"` into the BeautifulSoup constructor.\n",
      "  warnings.warn(\n"
     ]
    }
   ],
   "source": [
    "from bs4 import BeautifulSoup\n",
    "from urllib.request import urlopen\n",
    "import re\n",
    "\n",
    "url = \"https://trends.google.com/trends/trendingsearches/daily/rss?geo=KR\"\n",
    "html = urlopen(url)\n",
    "soup = BeautifulSoup(html, \"html.parser\")\n",
    "\n",
    "for i in soup.find_all('item'):\n",
    "    title = i.find('title').get_text(strip=True)\n",
    "    desc = i.find(\"ht:news_item_title\").get_text(strip=True)\n",
    "    desc = re.sub(\"&#39;|&quot;\", \"\", desc)\n",
    "    print(\"\\033[1m\", title, \"\\033[0m\", \":\", desc)"
   ]
  },
  {
   "cell_type": "code",
   "execution_count": null,
   "id": "359fac8f",
   "metadata": {},
   "outputs": [],
   "source": []
  }
 ],
 "metadata": {
  "kernelspec": {
   "display_name": "Python 3 (ipykernel)",
   "language": "python",
   "name": "python3"
  },
  "language_info": {
   "codemirror_mode": {
    "name": "ipython",
    "version": 3
   },
   "file_extension": ".py",
   "mimetype": "text/x-python",
   "name": "python",
   "nbconvert_exporter": "python",
   "pygments_lexer": "ipython3",
   "version": "3.11.4"
  }
 },
 "nbformat": 4,
 "nbformat_minor": 5
}
